{
  "nbformat": 4,
  "nbformat_minor": 0,
  "metadata": {
    "colab": {
      "name": "노드",
      "provenance": [],
      "collapsed_sections": [],
      "authorship_tag": "ABX9TyOW4NmLv4lF08etCvgOQrFh",
      "include_colab_link": true
    },
    "kernelspec": {
      "name": "python3",
      "display_name": "Python 3"
    }
  },
  "cells": [
    {
      "cell_type": "markdown",
      "metadata": {
        "id": "view-in-github",
        "colab_type": "text"
      },
      "source": [
        "<a href=\"https://colab.research.google.com/github/nys726/first/blob/master/%EB%85%B8%EB%93%9C.ipynb\" target=\"_parent\"><img src=\"https://colab.research.google.com/assets/colab-badge.svg\" alt=\"Open In Colab\"/></a>"
      ]
    },
    {
      "cell_type": "markdown",
      "metadata": {
        "id": "wgC9V2vkhRj_",
        "colab_type": "text"
      },
      "source": [
        "##Repeat 노드"
      ]
    },
    {
      "cell_type": "code",
      "metadata": {
        "id": "g_rfoj5_JXys",
        "colab_type": "code",
        "colab": {}
      },
      "source": [
        "import numpy as np\n",
        "D, N = 8, 7\n",
        "x = np.random.randn(1, D)                # 입력\n",
        "y = np.repeat(x, N, axis=0)              # 순전파\n",
        "dy = np.random.randn(N, D)               # 무작위 기울기\n",
        "dx = np.sum(dy, axis=0, keepdims=True)   # 역전파"
      ],
      "execution_count": 0,
      "outputs": []
    },
    {
      "cell_type": "code",
      "metadata": {
        "id": "2mpUjAYdJ4tw",
        "colab_type": "code",
        "outputId": "4a060c8f-2895-41e7-f806-99af46fbd528",
        "colab": {
          "base_uri": "https://localhost:8080/",
          "height": 298
        }
      },
      "source": [
        "x,y"
      ],
      "execution_count": 0,
      "outputs": [
        {
          "output_type": "execute_result",
          "data": {
            "text/plain": [
              "(array([[-0.90048531, -0.43072424,  2.15515792,  0.43138393, -1.60884386,\n",
              "         -0.31347969,  0.5409478 , -1.48304841]]),\n",
              " array([[-0.90048531, -0.43072424,  2.15515792,  0.43138393, -1.60884386,\n",
              "         -0.31347969,  0.5409478 , -1.48304841],\n",
              "        [-0.90048531, -0.43072424,  2.15515792,  0.43138393, -1.60884386,\n",
              "         -0.31347969,  0.5409478 , -1.48304841],\n",
              "        [-0.90048531, -0.43072424,  2.15515792,  0.43138393, -1.60884386,\n",
              "         -0.31347969,  0.5409478 , -1.48304841],\n",
              "        [-0.90048531, -0.43072424,  2.15515792,  0.43138393, -1.60884386,\n",
              "         -0.31347969,  0.5409478 , -1.48304841],\n",
              "        [-0.90048531, -0.43072424,  2.15515792,  0.43138393, -1.60884386,\n",
              "         -0.31347969,  0.5409478 , -1.48304841],\n",
              "        [-0.90048531, -0.43072424,  2.15515792,  0.43138393, -1.60884386,\n",
              "         -0.31347969,  0.5409478 , -1.48304841],\n",
              "        [-0.90048531, -0.43072424,  2.15515792,  0.43138393, -1.60884386,\n",
              "         -0.31347969,  0.5409478 , -1.48304841]]))"
            ]
          },
          "metadata": {
            "tags": []
          },
          "execution_count": 3
        }
      ]
    },
    {
      "cell_type": "code",
      "metadata": {
        "id": "F2Gxy9lNJ9Cm",
        "colab_type": "code",
        "outputId": "61785d05-a325-4232-8f70-9d24724cf0e2",
        "colab": {
          "base_uri": "https://localhost:8080/",
          "height": 263
        }
      },
      "source": [
        "dy"
      ],
      "execution_count": 0,
      "outputs": [
        {
          "output_type": "execute_result",
          "data": {
            "text/plain": [
              "array([[ 1.41992128,  1.53022047,  0.60306473,  1.4941058 , -1.72081855,\n",
              "         1.18674846, -1.52461593, -0.1651855 ],\n",
              "       [-0.81204935,  0.56041012, -1.70631297, -0.89922355,  0.29497896,\n",
              "         1.50660683,  0.20384347,  1.06611141],\n",
              "       [ 0.69893708, -2.03314221,  0.81820963, -1.60308986,  1.05126253,\n",
              "         0.94802621,  0.49605536, -1.67906077],\n",
              "       [ 1.27650995,  0.06979146, -0.36242733, -1.33227509,  0.56693247,\n",
              "         0.85044573, -0.26758678,  0.47595615],\n",
              "       [-0.22414036,  0.0791642 ,  2.08047708,  0.59612173, -0.70847024,\n",
              "        -0.25875781,  2.10329911,  2.67880303],\n",
              "       [ 0.21104421,  0.47712771, -1.42540495, -0.22344168, -0.70568343,\n",
              "         0.52209442, -0.025093  ,  0.43178397],\n",
              "       [-1.07146832,  0.14053737, -0.33474495, -0.62647712, -0.46524155,\n",
              "         0.38968352, -1.1423852 ,  1.64998636]])"
            ]
          },
          "metadata": {
            "tags": []
          },
          "execution_count": 4
        }
      ]
    },
    {
      "cell_type": "code",
      "metadata": {
        "id": "JX7tn1_GKARf",
        "colab_type": "code",
        "outputId": "ab05e089-4b8e-474e-8293-01104ba7923c",
        "colab": {
          "base_uri": "https://localhost:8080/",
          "height": 52
        }
      },
      "source": [
        "dx"
      ],
      "execution_count": 0,
      "outputs": [
        {
          "output_type": "execute_result",
          "data": {
            "text/plain": [
              "array([[ 1.49875448,  0.82410913, -0.32713877, -2.59427977, -1.6870398 ,\n",
              "         5.14484735, -0.15648296,  4.45839465]])"
            ]
          },
          "metadata": {
            "tags": []
          },
          "execution_count": 5
        }
      ]
    },
    {
      "cell_type": "markdown",
      "metadata": {
        "id": "RSu3B6Y9hQjW",
        "colab_type": "text"
      },
      "source": [
        "##Sum 노드"
      ]
    },
    {
      "cell_type": "code",
      "metadata": {
        "id": "L4SaYnpShPKW",
        "colab_type": "code",
        "colab": {}
      },
      "source": [
        "import numpy as np\n",
        "D, N = 8, 7\n",
        "x = np.random.randn(N, D)             # 입력\n",
        "y = np.sum(x, axis=0, keepdims=True)  # 순전파\n",
        "dy = np.random.randn(1, D)            # 무작위 기울기\n",
        "dx = np.repeat(dy, N, axis = 0)       # 역전파"
      ],
      "execution_count": 0,
      "outputs": []
    },
    {
      "cell_type": "markdown",
      "metadata": {
        "id": "xqbvO8Nawh7S",
        "colab_type": "text"
      },
      "source": [
        "## MatMul 노드"
      ]
    },
    {
      "cell_type": "code",
      "metadata": {
        "id": "oGpes6KKhZKD",
        "colab_type": "code",
        "colab": {}
      },
      "source": [
        "class MatMul:\n",
        "  def __init__(self, W):\n",
        "    self.params = [W]\n",
        "    self.grads = [np.zeros_like(W)]\n",
        "    self.x = None\n",
        "\n",
        "  def forword(self, x):\n",
        "    W, = self.params\n",
        "    out = np.matmul(x, W)\n",
        "    self.x = x\n",
        "    return\n",
        "    \n",
        "  def backward(self, dout):\n",
        "    W, = self.params\n",
        "    dx = np.matmul(dout, W.T)\n",
        "    dW = np.matmul(self.x.T, dout)\n",
        "    self.grads[0][...]=dW\n",
        "    return dx"
      ],
      "execution_count": 0,
      "outputs": []
    },
    {
      "cell_type": "markdown",
      "metadata": {
        "id": "512zhpZZ4u96",
        "colab_type": "text"
      },
      "source": [
        "## Sigmoid 계층"
      ]
    },
    {
      "cell_type": "code",
      "metadata": {
        "id": "much8jet40R0",
        "colab_type": "code",
        "colab": {}
      },
      "source": [
        "class MatMul:\n",
        "  def __init__(self):\n",
        "    self.params, self.grads = [], []\n",
        "    self.out = None\n",
        "\n",
        "  def forword(self, x):\n",
        "    out = 1 / (1+np.exp(-x))\n",
        "    self.out = out\n",
        "    return out\n",
        "    \n",
        "  def backward(self, dout):\n",
        "    dx = dout * (1.0 - self.out) * self.out\n",
        "    return dx"
      ],
      "execution_count": 0,
      "outputs": []
    },
    {
      "cell_type": "markdown",
      "metadata": {
        "id": "F7el1ywF6qz5",
        "colab_type": "text"
      },
      "source": [
        "##Affine계층"
      ]
    },
    {
      "cell_type": "code",
      "metadata": {
        "id": "sc9DrgYL6vI4",
        "colab_type": "code",
        "colab": {}
      },
      "source": [
        "class MatMul:\n",
        "  def __init__(self, W, b):\n",
        "    self.params = [W, b]\n",
        "    self.grads = [np.zeros_like(W), np.zeros_like(b)]\n",
        "    self.x = None\n",
        "\n",
        "  def forword(self, x):\n",
        "    W, b = self.params\n",
        "    out = np.matmul(x, W) +b\n",
        "    self.x = x\n",
        "    return\n",
        "    \n",
        "  def backward(self, dout):\n",
        "    W, b = self.params\n",
        "    dx = np.matmul(dout, W.T)\n",
        "    dW = np.matmul(self.x.T, dout)\n",
        "    db = np.sum(dout, axis=0)\n",
        "    self.grads[0][...]=dW\n",
        "    self.grads[1][...]=db\n",
        "    return dx"
      ],
      "execution_count": 0,
      "outputs": []
    }
  ]
}
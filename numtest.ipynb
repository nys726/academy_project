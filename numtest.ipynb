{
  "nbformat": 4,
  "nbformat_minor": 0,
  "metadata": {
    "colab": {
      "name": "numtest.ipynb",
      "provenance": [],
      "collapsed_sections": [],
      "toc_visible": true,
      "authorship_tag": "ABX9TyMfWAm7M6rDvVadffVpnvuc",
      "include_colab_link": true
    },
    "kernelspec": {
      "name": "python3",
      "display_name": "Python 3"
    },
    "accelerator": "GPU"
  },
  "cells": [
    {
      "cell_type": "markdown",
      "metadata": {
        "id": "view-in-github",
        "colab_type": "text"
      },
      "source": [
        "<a href=\"https://colab.research.google.com/github/nys726/first/blob/master/numtest.ipynb\" target=\"_parent\"><img src=\"https://colab.research.google.com/assets/colab-badge.svg\" alt=\"Open In Colab\"/></a>"
      ]
    },
    {
      "cell_type": "markdown",
      "metadata": {
        "id": "madN2m7u-sj6",
        "colab_type": "text"
      },
      "source": [
        "##미션 :\n",
        "\n",
        "- 데이터획득: .mat 에서 x, y 를 가져옵니다\n",
        "- 전처리 : x, y 를 학습할 수 있게 만듭니다\n",
        "- x : (h,w,c,m) > (m,h,w,c) 로 수정\n",
        "- y : (m,1) > (m) 로 수정\n",
        "- y 의 라벨을 확인하세요. 숫자 0 의 라벨이 '10'입니다. 이것을 0으로 수정하세요\n",
        "- 모델 생성: CNN, RNN, CRNN 등의 모델을 만듭니다\n",
        "- 학습 및 평가: 데이터를 학습시키고 성능을 측정합니다"
      ]
    },
    {
      "cell_type": "code",
      "metadata": {
        "id": "ZR3nvY1mPTHY",
        "colab_type": "code",
        "outputId": "a1326bc3-32ad-4aa8-f52e-f5a3ec3d4259",
        "colab": {
          "base_uri": "https://localhost:8080/",
          "height": 105
        }
      },
      "source": [
        "%tensorflow_version 2.0x\n",
        "import tensorflow as tf\n",
        "from tensorflow import keras\n",
        "from google.colab import files"
      ],
      "execution_count": 0,
      "outputs": [
        {
          "output_type": "stream",
          "text": [
            "`%tensorflow_version` only switches the major version: `1.x` or `2.x`.\n",
            "You set: `2.0x`. This will be interpreted as: `2.x`.\n",
            "\n",
            "\n",
            "TensorFlow 2.x selected.\n"
          ],
          "name": "stdout"
        }
      ]
    },
    {
      "cell_type": "code",
      "metadata": {
        "id": "MQTSFCImPQLL",
        "colab_type": "code",
        "outputId": "5623e3e7-c730-47bd-b799-b39aee6cad98",
        "colab": {
          "resources": {
            "http://localhost:8080/nbextensions/google.colab/files.js": {
              "data": "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",
              "ok": true,
              "headers": [
                [
                  "content-type",
                  "application/javascript"
                ]
              ],
              "status": 200,
              "status_text": ""
            }
          },
          "base_uri": "https://localhost:8080/",
          "height": 78
        }
      },
      "source": [
        "# 파일 업로드 방식\n",
        "uploaded = files.upload()"
      ],
      "execution_count": 0,
      "outputs": [
        {
          "output_type": "display_data",
          "data": {
            "text/html": [
              "\n",
              "     <input type=\"file\" id=\"files-9d3f8656-5fdf-4835-b042-cbe8e59d240b\" name=\"files[]\" multiple disabled />\n",
              "     <output id=\"result-9d3f8656-5fdf-4835-b042-cbe8e59d240b\">\n",
              "      Upload widget is only available when the cell has been executed in the\n",
              "      current browser session. Please rerun this cell to enable.\n",
              "      </output>\n",
              "      <script src=\"/nbextensions/google.colab/files.js\"></script> "
            ],
            "text/plain": [
              "<IPython.core.display.HTML object>"
            ]
          },
          "metadata": {
            "tags": []
          }
        },
        {
          "output_type": "stream",
          "text": [
            "Saving test_32x32.mat to test_32x32.mat\n"
          ],
          "name": "stdout"
        }
      ]
    },
    {
      "cell_type": "code",
      "metadata": {
        "id": "qTDgDIe6DgPZ",
        "colab_type": "code",
        "colab": {}
      },
      "source": [
        "from scipy import io\n",
        "mat_file = io.loadmat('test_32x32.mat')"
      ],
      "execution_count": 0,
      "outputs": []
    },
    {
      "cell_type": "code",
      "metadata": {
        "id": "G-4ctx3HDs9u",
        "colab_type": "code",
        "outputId": "8925059b-8f94-472a-de83-19734b7826bb",
        "colab": {
          "base_uri": "https://localhost:8080/",
          "height": 1000
        }
      },
      "source": [
        "mat_file "
      ],
      "execution_count": 0,
      "outputs": [
        {
          "output_type": "execute_result",
          "data": {
            "text/plain": [
              "{'X': array([[[[ 38, 129, 150, ..., 115,  96, 101],\n",
              "          [103, 142, 160, ..., 132,  65,  75],\n",
              "          [ 60, 153, 169, ..., 142,  47,  60]],\n",
              " \n",
              "         [[ 39, 127, 150, ..., 116,  97, 100],\n",
              "          [104, 143, 163, ..., 133,  65,  73],\n",
              "          [ 61, 152, 170, ..., 143,  49,  60]],\n",
              " \n",
              "         [[ 39, 125, 152, ..., 117,  97,  99],\n",
              "          [104, 143, 168, ..., 134,  65,  71],\n",
              "          [ 62, 151, 172, ..., 144,  50,  59]],\n",
              " \n",
              "         ...,\n",
              " \n",
              "         [[ 41, 121, 153, ..., 114,  86,  95],\n",
              "          [102, 133, 172, ..., 136,  61,  63],\n",
              "          [ 61, 153, 180, ..., 141,  54,  52]],\n",
              " \n",
              "         [[ 42, 123, 150, ..., 114,  87,  95],\n",
              "          [103, 134, 171, ..., 136,  62,  63],\n",
              "          [ 62, 156, 181, ..., 142,  55,  52]],\n",
              " \n",
              "         [[ 39, 123, 147, ..., 115,  88,  96],\n",
              "          [ 97, 135, 169, ..., 136,  63,  64],\n",
              "          [ 57, 157, 180, ..., 143,  56,  51]]],\n",
              " \n",
              " \n",
              "        [[[ 39, 134, 150, ..., 122,  96, 109],\n",
              "          [104, 150, 160, ..., 139,  65,  84],\n",
              "          [ 61, 160, 169, ..., 148,  48,  69]],\n",
              " \n",
              "         [[ 39, 133, 151, ..., 123,  97, 107],\n",
              "          [104, 149, 163, ..., 140,  65,  80],\n",
              "          [ 61, 158, 169, ..., 149,  50,  67]],\n",
              " \n",
              "         [[ 39, 132, 153, ..., 124,  97, 104],\n",
              "          [104, 149, 168, ..., 141,  65,  76],\n",
              "          [ 62, 157, 171, ..., 150,  51,  64]],\n",
              " \n",
              "         ...,\n",
              " \n",
              "         [[ 41, 127, 156, ..., 118,  85,  95],\n",
              "          [102, 138, 174, ..., 139,  62,  62],\n",
              "          [ 61, 157, 180, ..., 143,  53,  53]],\n",
              " \n",
              "         [[ 43, 126, 153, ..., 118,  87,  93],\n",
              "          [101, 137, 171, ..., 139,  63,  61],\n",
              "          [ 63, 157, 180, ..., 145,  54,  50]],\n",
              " \n",
              "         [[ 39, 125, 150, ..., 119,  88,  93],\n",
              "          [ 97, 137, 169, ..., 139,  64,  61],\n",
              "          [ 57, 158, 179, ..., 146,  55,  49]]],\n",
              " \n",
              " \n",
              "        [[[ 38, 141, 144, ..., 131,  96, 117],\n",
              "          [105, 158, 154, ..., 148,  64,  95],\n",
              "          [ 62, 168, 163, ..., 155,  49,  78]],\n",
              " \n",
              "         [[ 37, 140, 146, ..., 132,  96, 114],\n",
              "          [104, 157, 157, ..., 149,  64,  90],\n",
              "          [ 61, 166, 163, ..., 156,  50,  75]],\n",
              " \n",
              "         [[ 39, 140, 148, ..., 133,  96, 108],\n",
              "          [106, 157, 162, ..., 149,  64,  83],\n",
              "          [ 63, 165, 165, ..., 157,  51,  70]],\n",
              " \n",
              "         ...,\n",
              " \n",
              "         [[ 43, 135, 157, ..., 125,  87,  95],\n",
              "          [101, 147, 172, ..., 143,  66,  62],\n",
              "          [ 63, 163, 177, ..., 147,  54,  53]],\n",
              " \n",
              "         [[ 43, 132, 153, ..., 125,  90,  92],\n",
              "          [100, 143, 168, ..., 143,  68,  60],\n",
              "          [ 64, 161, 175, ..., 149,  57,  50]],\n",
              " \n",
              "         [[ 39, 130, 150, ..., 126,  91,  91],\n",
              "          [ 97, 141, 165, ..., 144,  69,  59],\n",
              "          [ 59, 160, 173, ..., 150,  58,  48]]],\n",
              " \n",
              " \n",
              "        ...,\n",
              " \n",
              " \n",
              "        [[[ 52, 147, 135, ...,  94,  99, 116],\n",
              "          [119, 161, 150, ...,  97,  68,  96],\n",
              "          [ 78, 174, 167, ..., 114,  48,  85]],\n",
              " \n",
              "         [[ 53, 142, 134, ...,  93,  99, 116],\n",
              "          [120, 156, 149, ...,  96,  70,  96],\n",
              "          [ 79, 169, 166, ..., 113,  50,  87]],\n",
              " \n",
              "         [[ 51, 136, 132, ...,  92, 100, 115],\n",
              "          [118, 151, 147, ...,  95,  73,  95],\n",
              "          [ 77, 163, 165, ..., 112,  53,  87]],\n",
              " \n",
              "         ...,\n",
              " \n",
              "         [[ 44,  93, 124, ..., 140, 138, 101],\n",
              "          [118,  97, 140, ..., 153, 121,  70],\n",
              "          [ 69, 126, 157, ..., 162, 105,  50]],\n",
              " \n",
              "         [[ 44,  96, 122, ..., 142, 127, 101],\n",
              "          [117, 100, 139, ..., 155, 109,  70],\n",
              "          [ 71, 128, 157, ..., 164,  93,  50]],\n",
              " \n",
              "         [[ 41, 104, 121, ..., 144, 117, 101],\n",
              "          [114, 109, 138, ..., 157,  98,  70],\n",
              "          [ 69, 136, 158, ..., 165,  83,  50]]],\n",
              " \n",
              " \n",
              "        [[[ 50, 138, 147, ..., 117,  98, 104],\n",
              "          [117, 152, 165, ..., 122,  67,  83],\n",
              "          [ 76, 165, 179, ..., 137,  46,  71]],\n",
              " \n",
              "         [[ 51, 130, 147, ..., 117,  99, 105],\n",
              "          [118, 144, 164, ..., 122,  70,  84],\n",
              "          [ 77, 157, 179, ..., 137,  48,  73]],\n",
              " \n",
              "         [[ 49, 121, 147, ..., 118, 100, 105],\n",
              "          [116, 136, 164, ..., 123,  73,  84],\n",
              "          [ 75, 148, 179, ..., 137,  51,  74]],\n",
              " \n",
              "         ...,\n",
              " \n",
              "         [[ 44,  93, 139, ..., 141, 126, 101],\n",
              "          [117,  99, 155, ..., 154, 108,  70],\n",
              "          [ 71, 128, 170, ..., 163,  92,  49]],\n",
              " \n",
              "         [[ 45, 101, 139, ..., 143, 118, 102],\n",
              "          [116, 107, 155, ..., 156,  99,  71],\n",
              "          [ 72, 134, 170, ..., 164,  83,  50]],\n",
              " \n",
              "         [[ 42, 112, 138, ..., 144, 110, 102],\n",
              "          [113, 118, 155, ..., 157,  91,  71],\n",
              "          [ 69, 144, 171, ..., 165,  75,  50]]],\n",
              " \n",
              " \n",
              "        [[[ 48, 131, 159, ..., 132,  97,  95],\n",
              "          [115, 145, 177, ..., 138,  66,  73],\n",
              "          [ 74, 158, 189, ..., 152,  45,  62]],\n",
              " \n",
              "         [[ 48, 122, 159, ..., 133,  99,  96],\n",
              "          [115, 136, 177, ..., 140,  69,  74],\n",
              "          [ 74, 149, 190, ..., 152,  48,  63]],\n",
              " \n",
              "         [[ 46, 111, 159, ..., 135, 100,  97],\n",
              "          [113, 126, 177, ..., 142,  72,  75],\n",
              "          [ 72, 139, 191, ..., 153,  51,  64]],\n",
              " \n",
              "         ...,\n",
              " \n",
              "         [[ 43, 101, 152, ..., 142, 118, 101],\n",
              "          [116, 108, 168, ..., 155,  99,  70],\n",
              "          [ 71, 135, 181, ..., 164,  82,  49]],\n",
              " \n",
              "         [[ 44, 111, 152, ..., 143, 111, 102],\n",
              "          [115, 118, 168, ..., 156,  92,  71],\n",
              "          [ 71, 144, 182, ..., 165,  74,  50]],\n",
              " \n",
              "         [[ 42, 123, 152, ..., 144, 104, 102],\n",
              "          [113, 130, 168, ..., 157,  85,  71],\n",
              "          [ 71, 156, 183, ..., 165,  68,  50]]]], dtype=uint8),\n",
              " '__globals__': [],\n",
              " '__header__': b'MATLAB 5.0 MAT-file, Platform: GLNXA64, Created on: Mon Dec  5 21:18:15 2011',\n",
              " '__version__': '1.0',\n",
              " 'y': array([[5],\n",
              "        [2],\n",
              "        [1],\n",
              "        ...,\n",
              "        [7],\n",
              "        [6],\n",
              "        [7]], dtype=uint8)}"
            ]
          },
          "metadata": {
            "tags": []
          },
          "execution_count": 11
        }
      ]
    },
    {
      "cell_type": "code",
      "metadata": {
        "id": "NKuDw5KfDxlF",
        "colab_type": "code",
        "colab": {}
      },
      "source": [
        "x = mat_file['X']\n",
        "y = mat_file['y']"
      ],
      "execution_count": 0,
      "outputs": []
    },
    {
      "cell_type": "code",
      "metadata": {
        "id": "aCv5kJHfOMS0",
        "colab_type": "code",
        "outputId": "4f694aec-a7af-4478-b0d0-fc86c571afa5",
        "colab": {
          "base_uri": "https://localhost:8080/",
          "height": 70
        }
      },
      "source": [
        "# (width, height, channels, size) -> (size, width, height, channels)\n",
        "x, y = x.transpose((3,0,1,2)), y[:,0]\n",
        "\n",
        "print(\"Test Set\", x.shape)\n",
        "print('')\n",
        "\n",
        "num_images = x.shape[0]\n",
        "\n",
        "print(\"Total Number of Images\", num_images)"
      ],
      "execution_count": 0,
      "outputs": [
        {
          "output_type": "stream",
          "text": [
            "Test Set (26032, 32, 32, 3)\n",
            "\n",
            "Total Number of Images 26032\n"
          ],
          "name": "stdout"
        }
      ]
    },
    {
      "cell_type": "code",
      "metadata": {
        "id": "T9DTQC33O4Bu",
        "colab_type": "code",
        "outputId": "d8bacb4c-3a12-474b-c5ce-a06d1cd2f835",
        "colab": {
          "base_uri": "https://localhost:8080/",
          "height": 140
        }
      },
      "source": [
        "y[:100]"
      ],
      "execution_count": 0,
      "outputs": [
        {
          "output_type": "execute_result",
          "data": {
            "text/plain": [
              "array([ 5,  2,  1, 10,  6,  1,  9,  1,  1,  8,  3,  6,  5,  1,  4,  4,  1,\n",
              "        6,  3,  4,  2, 10,  1,  3,  2,  5,  4,  1,  4,  2,  8,  3,  8,  6,\n",
              "       10,  1,  5,  1,  1,  2,  9,  1,  6,  9,  2,  6,  1,  2, 10,  6,  9,\n",
              "        1,  5,  1,  9,  8,  1,  5,  1,  5,  2,  9,  2,  4,  1, 10,  6,  9,\n",
              "        3,  2,  3,  5,  1,  1,  4,  6,  2,  8,  3,  1,  4,  1,  7,  1,  2,\n",
              "        1,  7,  1, 10,  1,  4,  4,  6,  4,  4,  2,  8,  1,  7,  7],\n",
              "      dtype=uint8)"
            ]
          },
          "metadata": {
            "tags": []
          },
          "execution_count": 14
        }
      ]
    },
    {
      "cell_type": "code",
      "metadata": {
        "id": "Xmdjd-S3PO_U",
        "colab_type": "code",
        "colab": {}
      },
      "source": [
        "y[y==10] = 0"
      ],
      "execution_count": 0,
      "outputs": []
    },
    {
      "cell_type": "code",
      "metadata": {
        "id": "TipvHMhiLE02",
        "colab_type": "code",
        "outputId": "2611c17f-122f-40f5-aee9-67acc1f806ab",
        "colab": {
          "base_uri": "https://localhost:8080/",
          "height": 34
        }
      },
      "source": [
        "x.shape, y.shape"
      ],
      "execution_count": 0,
      "outputs": [
        {
          "output_type": "execute_result",
          "data": {
            "text/plain": [
              "((26032, 32, 32, 3), (26032,))"
            ]
          },
          "metadata": {
            "tags": []
          },
          "execution_count": 17
        }
      ]
    },
    {
      "cell_type": "code",
      "metadata": {
        "id": "QP7qdhhL98aY",
        "colab_type": "code",
        "colab": {}
      },
      "source": [
        "%tensorflow_version 2.x\n",
        "import tensorflow as tf\n",
        "from tensorflow import keras\n",
        "import numpy as np\n",
        "from sklearn.datasets import load_digits\n",
        "import tensorflow as tf\n",
        "import scipy.io as sio\n",
        "import time\n",
        "import matplotlib.pyplot as plt"
      ],
      "execution_count": 0,
      "outputs": []
    },
    {
      "cell_type": "code",
      "metadata": {
        "id": "w227-fq0mykC",
        "colab_type": "code",
        "outputId": "29d680aa-fa3d-46d5-f66a-c7bc2f9b13cd",
        "colab": {
          "base_uri": "https://localhost:8080/",
          "height": 284
        }
      },
      "source": [
        "plt.imshow(x[1])"
      ],
      "execution_count": 0,
      "outputs": [
        {
          "output_type": "execute_result",
          "data": {
            "text/plain": [
              "<matplotlib.image.AxesImage at 0x7fd22f160828>"
            ]
          },
          "metadata": {
            "tags": []
          },
          "execution_count": 20
        },
        {
          "output_type": "display_data",
          "data": {
            "image/png": "[encoded data removed]",
            "text/plain": [
              "<Figure size 432x288 with 1 Axes>"
            ]
          },
          "metadata": {
            "tags": []
          }
        }
      ]
    },
    {
      "cell_type": "code",
      "metadata": {
        "id": "1MeAb_S1QjyW",
        "colab_type": "code",
        "colab": {}
      },
      "source": [
        "#전문가 모델\n",
        "class MyModel(keras.Model):\n",
        "  def __init__(self):\n",
        "    super(MyModel, self).__init__()#상속한 클래스의 생성자 호출 \n",
        "    self.opt = tf.optimizers.RMSprop(learning_rate=0.01)#Stochatic Gradient Descent 확률적 경사 하강\n",
        "    # RMSprop 최적화 프로그램\n",
        "    self.conv0 = keras.layers.Conv2D(3, [3,3], padding='same', activation=keras.activations.relu)\n",
        "    self.conv1 = keras.layers.Conv2D(6, [3,3], padding='same', activation=keras.activations.relu)\n",
        "    self.pool0 = keras.layers.MaxPool2D([2,2], padding='same')\n",
        "    self.pool1 = keras.layers.MaxPool2D([2,2], padding='same')\n",
        "    self.flatten = keras.layers.Flatten()\n",
        "    self.dense = keras.layers.Dense(units=10, activation=keras.activations.softmax)\n",
        "  \n",
        "  def call(self, x):\n",
        "    x_4d = tf.reshape(x, [-1,32,32,3]) / 255\n",
        "    x_4d = tf.cast(x_4d, tf.float32)\n",
        "    net = self.conv0(x_4d)\n",
        "    net = self.pool0(net)\n",
        "    net = self.conv1(net)\n",
        "    net = self.pool1(net)\n",
        "    net = self.flatten(net)    \n",
        "    h = self.dense(net)\n",
        "    return h\n",
        "\n",
        "  def get_loss(self, y, h):\n",
        "    #학습할때 nan이 발생하는 경우 값을 clip(자르다) (최소값, 최대값) \n",
        "    h = tf.clip_by_value(h, 1e-6, 1 - 1e-6) # h 가 0이나 1이 되지 않도록 하는 안전장치 \n",
        "    cross_entropy = - (y * tf.math.log(h) + (1 - y) * tf.math.log(1 - h)) \n",
        "    loss = tf.reduce_mean(cross_entropy)\n",
        "    return loss\n",
        "\n",
        "  def get_accuracy(self, y, h):    \n",
        "    predict = tf.argmax(h, -1)\n",
        "    self.acc = tf.reduce_mean(tf.cast(tf.equal(y, predict), tf.float32)) # True > 1, False > 0 로 cast\n",
        "\n",
        "  def fit(self, x, y, epoch=1):\n",
        "    # x : (m, 4), y: (m)    \n",
        "    y_hot = tf.one_hot(y, depth=10, axis=-1)#(m, 3)  \n",
        "    for i in range(epoch):\n",
        "      with tf.GradientTape() as tape: #경사 기록 장치\n",
        "        h = self.call(x)\n",
        "        loss = self.get_loss(y_hot, h)        \n",
        "      grads = tape.gradient(loss, self.trainable_variables) #경사 계산\n",
        "      self.opt.apply_gradients(zip(grads, self.trainable_variables)) # 가중치에서 경사를 빼기\n",
        "      self.get_accuracy(y, h)\n",
        "      if i%10==0:\n",
        "        print('%d/%d loss:%.3f acc:%.3f'%(i, epoch, loss, self.acc))\n",
        "model = MyModel()"
      ],
      "execution_count": 0,
      "outputs": []
    },
    {
      "cell_type": "code",
      "metadata": {
        "id": "hlRSoeU-RJSN",
        "colab_type": "code",
        "outputId": "67d2c7ae-97f8-480c-b81e-74328f439cf3",
        "colab": {
          "base_uri": "https://localhost:8080/",
          "height": 897
        }
      },
      "source": [
        "model.fit(x[:500], y[:500], epoch=500) #학습"
      ],
      "execution_count": 0,
      "outputs": [
        {
          "output_type": "stream",
          "text": [
            "0/500 loss:0.331 acc:0.056\n",
            "10/500 loss:0.312 acc:0.196\n",
            "20/500 loss:0.301 acc:0.224\n",
            "30/500 loss:0.280 acc:0.342\n",
            "40/500 loss:0.271 acc:0.316\n",
            "50/500 loss:0.238 acc:0.470\n",
            "60/500 loss:0.237 acc:0.466\n",
            "70/500 loss:0.196 acc:0.556\n",
            "80/500 loss:0.195 acc:0.580\n",
            "90/500 loss:0.126 acc:0.762\n",
            "100/500 loss:0.136 acc:0.692\n",
            "110/500 loss:0.119 acc:0.776\n",
            "120/500 loss:0.095 acc:0.824\n",
            "130/500 loss:0.085 acc:0.844\n",
            "140/500 loss:0.086 acc:0.820\n",
            "150/500 loss:0.100 acc:0.782\n",
            "160/500 loss:0.069 acc:0.888\n",
            "170/500 loss:0.092 acc:0.806\n",
            "180/500 loss:0.100 acc:0.798\n",
            "190/500 loss:0.040 acc:0.938\n",
            "200/500 loss:0.043 acc:0.920\n",
            "210/500 loss:0.032 acc:0.964\n",
            "220/500 loss:0.031 acc:0.962\n",
            "230/500 loss:0.035 acc:0.954\n",
            "240/500 loss:0.021 acc:0.972\n",
            "250/500 loss:0.038 acc:0.948\n",
            "260/500 loss:0.074 acc:0.844\n",
            "270/500 loss:0.041 acc:0.930\n",
            "280/500 loss:0.012 acc:0.992\n",
            "290/500 loss:0.015 acc:0.988\n",
            "300/500 loss:0.009 acc:0.994\n",
            "310/500 loss:0.071 acc:0.862\n",
            "320/500 loss:0.008 acc:0.994\n",
            "330/500 loss:0.007 acc:0.996\n",
            "340/500 loss:0.010 acc:0.992\n",
            "350/500 loss:0.006 acc:1.000\n",
            "360/500 loss:0.010 acc:0.996\n",
            "370/500 loss:0.004 acc:1.000\n",
            "380/500 loss:0.009 acc:0.996\n",
            "390/500 loss:0.004 acc:1.000\n",
            "400/500 loss:0.003 acc:1.000\n",
            "410/500 loss:0.029 acc:0.954\n",
            "420/500 loss:0.004 acc:1.000\n",
            "430/500 loss:0.003 acc:1.000\n",
            "440/500 loss:0.002 acc:1.000\n",
            "450/500 loss:0.109 acc:0.822\n",
            "460/500 loss:0.003 acc:1.000\n",
            "470/500 loss:0.002 acc:1.000\n",
            "480/500 loss:0.001 acc:1.000\n",
            "490/500 loss:0.402 acc:0.596\n"
          ],
          "name": "stdout"
        }
      ]
    },
    {
      "cell_type": "code",
      "metadata": {
        "id": "Qz8v7CmReQ77",
        "colab_type": "code",
        "colab": {}
      },
      "source": [
        "## 모델 생성\n",
        "epoch = 100\n",
        "batch_m = 1000 # 메모리가 부족한 경우 데이터를 배치단위로 나누어서 학습시킵니다.\n",
        "for i in range(epoch):\n",
        "  iteration = np.ceil(len(y)/batch_m)\n",
        "  for j in range(iteration):\n",
        "    start = i*batch_m\n",
        "    end = (i+1)*batch_m\n",
        "    x_batch = x[start:end]\n",
        "    y_batch = y[start:end]"
      ],
      "execution_count": 0,
      "outputs": []
    }
  ]
}